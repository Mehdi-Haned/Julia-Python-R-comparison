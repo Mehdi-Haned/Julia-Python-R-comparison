{
 "cells": [
  {
   "cell_type": "code",
   "execution_count": 15,
   "metadata": {},
   "outputs": [
    {
     "data": {
      "text/plain": [
       "false"
      ]
     },
     "metadata": {},
     "output_type": "display_data"
    }
   ],
   "source": [
    "# Is_even mutual recursion\n",
    "\n",
    "function is_even(n)\n",
    "    if n == 0\n",
    "        return true\n",
    "    else\n",
    "        return is_odd(n-1)\n",
    "    end\n",
    "end\n",
    "\n",
    "function is_odd(n)\n",
    "    if n == 0\n",
    "        return false\n",
    "    else\n",
    "        return is_even(n-1)\n",
    "    end\n",
    "end\n",
    "\n",
    "is_even(100001)"
   ]
  },
  {
   "cell_type": "code",
   "execution_count": 108,
   "metadata": {},
   "outputs": [
    {
     "name": "stdout",
     "output_type": "stream",
     "text": [
      "  0.000006 seconds (1 allocation: 896 bytes)\n"
     ]
    },
    {
     "data": {
      "text/plain": [
       "100-element Vector{Float64}:\n",
       "  1.0\n",
       "  1.0\n",
       "  2.0\n",
       "  3.0\n",
       "  5.0\n",
       "  8.0\n",
       " 13.0\n",
       " 21.0\n",
       " 34.0\n",
       " 55.0\n",
       "  ⋮\n",
       "  7.540113804746346e18\n",
       "  1.2200160415121877e19\n",
       "  1.9740274219868226e19\n",
       "  3.19404346349901e19\n",
       "  5.168070885485833e19\n",
       "  8.362114348984843e19\n",
       "  1.3530185234470676e20\n",
       "  2.189229958345552e20\n",
       "  3.54224848179262e20"
      ]
     },
     "metadata": {},
     "output_type": "display_data"
    }
   ],
   "source": [
    "# First N fibboncci numbers\n",
    "\n",
    "function fib(n::UInt)\n",
    "    ans = ones(n)\n",
    "    ans[1] = ans[2] = 1\n",
    "    for i in 3:n\n",
    "        ans[i] = ans[i-1] + ans[i-2]\n",
    "    end\n",
    "    return ans\n",
    "end\n",
    "\n",
    "@time fib(100)"
   ]
  },
  {
   "cell_type": "code",
   "execution_count": 1,
   "metadata": {},
   "outputs": [
    {
     "name": "stdout",
     "output_type": "stream",
     "text": [
      "  0.000085 seconds\n"
     ]
    },
    {
     "data": {
      "text/plain": [
       "true"
      ]
     },
     "metadata": {},
     "output_type": "display_data"
    }
   ],
   "source": [
    "# is it a prime\n",
    "\n",
    "function is_prime(n)\n",
    "    for i in 2:(n-1)\n",
    "        if n % i == 0\n",
    "            return false\n",
    "        end\n",
    "    end\n",
    "    return true\n",
    "end\n",
    "\n",
    "@time is_prime(2^13 - 1)"
   ]
  },
  {
   "cell_type": "code",
   "execution_count": 3,
   "metadata": {},
   "outputs": [
    {
     "data": {
      "text/plain": [
       "25-element Vector{Any}:\n",
       "  2\n",
       "  3\n",
       "  5\n",
       "  7\n",
       " 11\n",
       " 13\n",
       " 17\n",
       " 19\n",
       " 23\n",
       " 29\n",
       "  ⋮\n",
       " 59\n",
       " 61\n",
       " 67\n",
       " 71\n",
       " 73\n",
       " 79\n",
       " 83\n",
       " 89\n",
       " 97"
      ]
     },
     "metadata": {},
     "output_type": "display_data"
    }
   ],
   "source": [
    "# first n primes\n",
    "\n",
    "function first_n_primes(n)\n",
    "    res = []\n",
    "    for i in 2:n\n",
    "        if is_prime(i)\n",
    "            push!(res, i)\n",
    "        end\n",
    "    end\n",
    "    return res\n",
    "end\n",
    "\n",
    "first_n_primes(100)"
   ]
  },
  {
   "cell_type": "code",
   "execution_count": 5,
   "metadata": {},
   "outputs": [
    {
     "data": {
      "text/plain": [
       "Int64[]"
      ]
     },
     "metadata": {},
     "output_type": "display_data"
    }
   ],
   "source": [
    "collect(2:1)"
   ]
  }
 ],
 "metadata": {
  "kernelspec": {
   "display_name": "Julia 1.7.3",
   "language": "julia",
   "name": "julia-1.7"
  },
  "language_info": {
   "file_extension": ".jl",
   "mimetype": "application/julia",
   "name": "julia",
   "version": "1.7.3"
  },
  "orig_nbformat": 4
 },
 "nbformat": 4,
 "nbformat_minor": 2
}
